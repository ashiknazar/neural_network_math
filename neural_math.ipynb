{
 "cells": [
  {
   "cell_type": "markdown",
   "metadata": {},
   "source": [
    "<img src=\"images/neural_netwo.png\" alt=\"SAMPLE NETWORK ARCHITECTURE\" width=\"600\" />\n"
   ]
  },
  {
   "cell_type": "markdown",
   "metadata": {},
   "source": []
  },
  {
   "cell_type": "markdown",
   "metadata": {},
   "source": [
    "- **a**: output of activation function\n",
    "- **W**: weight parameter\n",
    "- **Z**: intermediate output\n",
    "- **O**: final output\n",
    "- **L**: represent each layer\n",
    "___\n",
    "\n",
    "\n",
    "\n",
    "\n"
   ]
  },
  {
   "cell_type": "markdown",
   "metadata": {},
   "source": [
    "<img src=\"images/activation_rep.png\" alt=\"a rep\" width=\"600\" />"
   ]
  },
  {
   "cell_type": "markdown",
   "metadata": {},
   "source": [
    "<img src=\"images/weight_rep.png\" alt=\"w rep\" width=\"600\" />"
   ]
  },
  {
   "cell_type": "markdown",
   "metadata": {},
   "source": [
    "- biases are represented as <b>b</b> with sub script for representing node and super script for layer <br>\n",
    "- first layer dont use activation function ,so the <b> a </b> is the input itself which is used as input for next layer<br>\n",
    "<br>\n",
    "- the equation for intermediate output is as given below<br>\n",
    "- the intermediate output from second layer onwards under goes activation,to produce output from that node \n"
   ]
  },
  {
   "cell_type": "markdown",
   "metadata": {},
   "source": [
    "$$Z_0^1 = w_{00}^{1} a_0^0 + w_{01}^{1} a_1^0 + b_0^1 \\quad \\quad  a_0^1 = \\text{act}(Z_0^1)$$\n",
    "\n",
    "\n",
    "$$Z_1^1 = w_{10}^{1} a_0^0 + w_{11}^{1} a_1^0 + b_1^1 \\quad \\quad a_1^1 = \\text{act}(Z_1^1)$$\n",
    "\n",
    "$$Z_2^1 = w_{20}^{1} a_0^0 + w_{21}^{1} a_1^0 + b_2^1  \\quad \\quad a_2^1 = \\text{act}(Z_2^1)$$\n"
   ]
  },
  {
   "cell_type": "markdown",
   "metadata": {},
   "source": [
    "$$\n",
    "\\mathbf{a}^0 = \\begin{bmatrix} a_0^0 \\\\ a_1^0 \\end{bmatrix}, \\quad \n",
    "\\mathbf{W} = \\begin{bmatrix} w_{00}^{1} & w_{01}^{1} \\\\ w_{10}^{1} & w_{11}^{1} \\\\ w_{20}^{1} & w_{21}^{1} \\end{bmatrix}, \\quad \n",
    "\\mathbf{b} = \\begin{bmatrix} b_0^1 \\\\ b_1^1 \\\\ b_2^1 \\end{bmatrix}\n",
    "$$\n",
    "\n",
    "$$\n",
    "\\mathbf{Z}^1 = \\mathbf{W} \\mathbf{a}^0 + \\mathbf{b}\n",
    "$$\n",
    "\n",
    "$$\n",
    "\\mathbf{a}^1 = \\text{act}(\\mathbf{Z}^1)\n",
    "$$\n"
   ]
  },
  {
   "cell_type": "markdown",
   "metadata": {},
   "source": [
    "- above given equations represent forward propagation\n",
    "- output produces at final layer is <b>o</b>\n",
    "- desired output is <b>Y</b>\n",
    "- we use cost function to calculate difference"
   ]
  },
  {
   "cell_type": "markdown",
   "metadata": {},
   "source": [
    "$$\\text{MSE} = \\sum_{i=0}^{K-1} (O_i - y_i)^2$$\n",
    "\n",
    "$$\\text{cost} = \\frac{(O_0 - y_0)^2 + (O_1 - y_1)^2}{2}$$\n"
   ]
  },
  {
   "cell_type": "markdown",
   "metadata": {},
   "source": [
    "- cost function depends on all weights and biases\n",
    "- all these are considered as parameters <b>'P'</b> .change of parameters with respect to change in cost are calculated and parameters are updated\n",
    "- <b>Pi</b> on rhs of below given represents new value of parameter and <b>Pi</b> on lhs is representing old parameters"
   ]
  },
  {
   "cell_type": "markdown",
   "metadata": {},
   "source": [
    "$$\n",
    "C(\\omega^0_{00}, \\omega^1_{10}, \\omega^1_{11}, \\dots, \\omega^2_{12}, b_0, \\dots, b_1)\n",
    "$$\n",
    "\n",
    "$$\n",
    "p_i = p_i - \\eta \\frac{\\partial C}{\\partial p_i}\n",
    "$$\n",
    "\n",
    "$$\n",
    "\\eta = \\text{constant learning rate}\n",
    "$$\n"
   ]
  },
  {
   "cell_type": "markdown",
   "metadata": {},
   "source": [
    "- we are trying to reduce cost function by adjusting all parameters( weights and biases)\n",
    "- we partially differentiate cost function with respect to all parameters\n"
   ]
  },
  {
   "cell_type": "markdown",
   "metadata": {},
   "source": [
    " differentiation with respect to bias term(node 0 of layer 2)\n",
    "\n",
    " <b>by chain rule</b>\n",
    "\n",
    "$$\n",
    "\\frac{\\partial c}{\\partial b^2_0} = \\frac{\\partial c}{\\partial o_0} \\cdot \\frac{\\partial o_0}{\\partial z^2_0} \\cdot \\frac{\\partial z^2_0}{\\partial b^2_0}\n",
    "$$\n",
    "___\n",
    "$$\n",
    "\\frac{\\partial c}{\\partial o_0} = \\frac{\\partial   ((o_0 - y_0)^2 + (o_1 - y_1)^2)}{\\partial o_0}\n",
    "$$\n",
    "\n",
    "$$\n",
    "\\frac{\\partial c}{\\partial o_0} = \\frac{2 (o_0 - y_0)}{2}\n",
    "$$\n",
    "\n",
    "___\n",
    "$$\n",
    "\\frac{\\partial o_0}{\\partial z^2_0} = \\frac{\\partial a_0^2}{\\partial z^2_0} = \\text{derivative of act}_2(z)\n",
    "$$\n",
    "\n",
    "$$\n",
    "\\frac{d \\, \\text{act}_2(z^2_0)}{d \\, z^2_0}\n",
    "$$\n",
    "$$\n",
    "\\text{act}'(z^2_0)\n",
    "$$\n",
    "  \n",
    "___\n",
    "$$\n",
    " z^2_0\n",
    "$$ \n",
    "is the input for the activation function and output of the activation function is\n",
    " $$ \n",
    " a_0^2 \n",
    " $$.\n",
    "so we represent it as \n",
    "$$\n",
    "\\text{act}'(z^2_0)\n",
    "$$\n",
    "___"
   ]
  },
  {
   "cell_type": "markdown",
   "metadata": {},
   "source": [
    "$$\n",
    "\\frac{\\partial z^2_0}{\\partial b^2_0} = \\frac{\\partial (\\omega^2_{00}a^1_0 + \\omega^2_{01}a^1_1 + \\omega^2_{02}a^1_2 + b^2_0)}{\\partial b^2_0}\n",
    "$$\n",
    "\n",
    "$$\n",
    "= \\frac{\\partial (b^2_0)}{\\partial b^2_0} = 1\n",
    "$$\n",
    "\n",
    "$$\n",
    "\\frac{\\partial c}{\\partial b^2_0} = (o_0 - y_0) \\cdot \\text{act'}_2(z^2_0)\n",
    "$$\n",
    "___\n",
    "$$\n",
    "\\frac{\\partial c}{\\partial b^2_1} = \\frac{\\partial c}{\\partial o_1} \\cdot \\frac{\\partial o_1}{\\partial z^2_1} \\cdot \\frac{\\partial z^2_1}{\\partial b^2_1}\n",
    "$$\n",
    "\n",
    "$$\n",
    "= (o_1 - y_1) \\cdot \\text{act'}_2(z^2_1) \\cdot 1\n",
    "$$\n",
    "\n",
    "$$\n",
    "\\Delta b^2 = \n",
    "\\begin{bmatrix}\n",
    "\\frac{\\partial c}{\\partial b^2_0} \\\\ \n",
    "\\frac{\\partial c}{\\partial b^2_1}\n",
    "\\end{bmatrix}\n",
    "= \n",
    "\\begin{bmatrix}\n",
    "(o_0 - y_0) \\cdot \\text{act'}_2(z^2_0) \\\\ \n",
    "(o_1 - y_1) \\cdot \\text{act'}_2(z^2_1)\n",
    "\\end{bmatrix}\n",
    "=\n",
    "\\begin{bmatrix}\n",
    "dE^2_0 \\\\\n",
    "dE^2_1\n",
    "\\end{bmatrix}\n",
    "$$\n",
    "\n"
   ]
  },
  {
   "cell_type": "markdown",
   "metadata": {},
   "source": [
    "$$\n",
    "db^2 = dE^2\n",
    "$$\n",
    "___"
   ]
  },
  {
   "cell_type": "markdown",
   "metadata": {},
   "source": [
    "<img src=\"images/dE0.png\" alt=\"SAMPLE NETWORK ARCHITECTURE\" width=\"600\" />"
   ]
  },
  {
   "cell_type": "markdown",
   "metadata": {},
   "source": []
  },
  {
   "cell_type": "markdown",
   "metadata": {},
   "source": [
    "___\n",
    "$$\n",
    "\\frac{\\partial c}{\\partial \\omega^2_{00}} = \\frac{\\partial c}{\\partial o_0} \\cdot \\frac{\\partial o_0}{\\partial z^2_0} \\cdot \\frac{\\partial z^2_0}{\\partial \\omega^2_{00}}\n",
    "$$\n",
    "\n",
    "$$\n",
    "= dE^2_0 \\cdot a^1_0\n",
    "$$\n",
    "\n",
    "$$\n",
    "\\frac{\\partial c}{\\partial \\omega^2_{01}} = dE^2_0 \\cdot a^1_1\n",
    "$$\n",
    "\n",
    "$$\n",
    "\\frac{\\partial c}{\\partial \\omega^2_{02}} = dE^2_0 \\cdot a^1_2\n",
    "$$\n",
    "\n",
    "$$\n",
    "\\frac{\\partial c}{\\partial \\omega^2_{10}} = dE^2_1 \\cdot a^1_0\n",
    "$$\n",
    "\n",
    "$$\n",
    "\\frac{\\partial c}{\\partial \\omega^2_{11}} = dE^2_1 \\cdot a^1_1\n",
    "$$\n",
    "\n",
    "\n",
    "$$\n",
    "\\frac{\\partial c}{\\partial \\omega^2_{12}} = dE^2_1 \\cdot a^1_2\n",
    "$$\n",
    "<br>\n",
    "\n",
    "$$\n",
    "d\\omega^2 = dE^2 (a')^T\n",
    "$$"
   ]
  },
  {
   "cell_type": "markdown",
   "metadata": {},
   "source": [
    "\n",
    "$$\n",
    "d\\omega^2 = \n",
    "\\begin{bmatrix}\n",
    "d\\omega_{00}^2 & d\\omega_{01}^2 & d\\omega_{02}^2 \\\\\n",
    "d\\omega_{10}^2 & d\\omega_{11}^2 & d\\omega_{12}^2\n",
    "\\end{bmatrix}\n",
    "$$\n",
    "___"
   ]
  },
  {
   "cell_type": "markdown",
   "metadata": {},
   "source": [
    "similarly\n",
    "\n",
    "$$\n",
    "\\frac{\\partial C}{\\partial \\omega^1_{00}} = d\\omega^1_{00}\n",
    "$$\n",
    "\n",
    "$$\n",
    "d\\omega^1 = \n",
    "\\begin{bmatrix}\n",
    "d\\omega_{00}^1 & d\\omega_{01}^1 \\\\\n",
    "d\\omega_{10}^1 & d\\omega_{11}^1 \\\\\n",
    "d\\omega_{20}^1 & d\\omega_{21}^1 \\\\\n",
    "\\end{bmatrix}\n",
    "$$\n"
   ]
  },
  {
   "cell_type": "markdown",
   "metadata": {},
   "source": [
    "___\n",
    "- consider nodes at second layer (L1)"
   ]
  },
  {
   "cell_type": "markdown",
   "metadata": {},
   "source": []
  },
  {
   "cell_type": "markdown",
   "metadata": {},
   "source": [
    "$$\n",
    "\\frac{\\partial c}{\\partial b_0'} = \\frac{\\partial c}{\\partial a_0'} \\cdot \\frac{\\partial a_0'}{\\partial z_0'} \\cdot \\frac{\\partial z_0'}{\\partial b_0'}\n",
    "$$\n"
   ]
  },
  {
   "cell_type": "markdown",
   "metadata": {},
   "source": [
    "$$\n",
    "\\frac{\\partial c}{\\partial a_0'} = \\frac{\\partial c}{\\partial O_0} \\cdot \\frac{\\partial O_0}{\\partial Z_0^2} \\cdot \\frac{\\partial z_0^2}{\\partial a_0^1} + \\frac{\\partial c}{\\partial O_1} \\cdot \\frac{\\partial O_1}{\\partial z_1^2} \\cdot \\frac{\\partial z_1^2}{\\partial a_0^1}\n",
    "$$\n",
    "\n",
    "$$\n",
    " = dE_0^2 \\cdot W_{00}^2 + dE_1^2 \\cdot W_{10}^2\n",
    "$$\n",
    "\n",
    "$$\n",
    "da^1 = \n",
    "\\begin{pmatrix}\n",
    "w_{00}^2 & w_{10}^2 \\\\\n",
    "w_{01}^2 & w_{11}^2 \\\\\n",
    "w_{02}^2 & w_{12}^2\n",
    "\\end{pmatrix}\n",
    "\\cdot \n",
    "\\begin{pmatrix}\n",
    "dE_0^2 \\\\\n",
    "dE_1^2\n",
    "\\end{pmatrix}\n",
    "= (W^2)^T dE^2\n",
    "$$\n",
    "\n",
    "$$\n",
    "dE^1 = da^1 \\cdot act_1^1 (Z^1)\n",
    "$$\n"
   ]
  },
  {
   "cell_type": "markdown",
   "metadata": {},
   "source": [
    "$$\n",
    "\\frac{\\partial c}{\\partial b_0'} = \\frac{\\partial c}{\\partial z_0'} \\cdot \\frac{\\partial z_0'}{\\partial b_0'} = dE_0'\n",
    "$$\n",
    "\n",
    "$$\n",
    "\\frac{\\partial c}{\\partial b_1'}  = dE_1'\n",
    "$$\n",
    "$$\n",
    "\\frac{\\partial c}{\\partial b_2'}  = dE_2'\n",
    "$$\n",
    "\n",
    "$$\n",
    "db^1 = dE^1 \n",
    "$$\n",
    "\n",
    "___\n"
   ]
  },
  {
   "cell_type": "markdown",
   "metadata": {},
   "source": [
    "$$\n",
    "dw' = \n",
    "\\begin{bmatrix}\n",
    "\\frac{\\partial C}{\\partial w'_{00}} & \\frac{\\partial C}{\\partial w'_{01}} \\\\\n",
    "\\frac{\\partial C}{\\partial w'_{10}} & \\frac{\\partial C}{\\partial w'_{11}} \\\\\n",
    "\\frac{\\partial C}{\\partial w'_{20}} & \\frac{\\partial C}{\\partial w'_{21}} \\\\\n",
    "\\end{bmatrix}\n",
    "$$\n",
    "\n",
    "$$\n",
    "= \n",
    "\\begin{bmatrix}\n",
    "\\frac{dC}{dZ_0'} \\cdot \\frac{dZ_0'}{dw'_{00}} & \\frac{dC}{dZ_0'} \\cdot \\frac{dZ_0'}{dw'_{01}} \\\\\n",
    "\\frac{dC}{dZ_1'} \\cdot \\frac{dZ_1'}{dw'_{10}} & \\frac{dC}{dZ_1'} \\cdot \\frac{dZ_1'}{dw'_{11}} \\\\\n",
    "\\frac{dC}{dZ_2'} \\cdot \\frac{dZ_2'}{dw'_{20}} & \\frac{dC}{dZ_2'} \\cdot \\frac{dZ_2'}{dw'_{21}} \\\\\n",
    "\\end{bmatrix}\n",
    "$$\n",
    "\n",
    "$$\n",
    "= \n",
    "\\begin{bmatrix}\n",
    "dE_0' \\cdot a_0^0 & dE_0' \\cdot a_1^0 \\\\\n",
    "dE_1' \\cdot a_0^0 & dE_1' \\cdot a_1^0 \\\\\n",
    "dE_2' \\cdot a_0^0 & dE_2' \\cdot a_1^0 \\\\\n",
    "\\end{bmatrix}\n",
    "$$\n"
   ]
  },
  {
   "cell_type": "markdown",
   "metadata": {},
   "source": [
    "<img src=\"images/CHANGES.png\" alt=\"SAMPLE NETWORK ARCHITECTURE\" width=\"600\" />"
   ]
  },
  {
   "cell_type": "markdown",
   "metadata": {},
   "source": []
  }
 ],
 "metadata": {
  "kernelspec": {
   "display_name": "base",
   "language": "python",
   "name": "python3"
  },
  "language_info": {
   "codemirror_mode": {
    "name": "ipython",
    "version": 3
   },
   "file_extension": ".py",
   "mimetype": "text/x-python",
   "name": "python",
   "nbconvert_exporter": "python",
   "pygments_lexer": "ipython3",
   "version": "3.12.4"
  }
 },
 "nbformat": 4,
 "nbformat_minor": 4
}
